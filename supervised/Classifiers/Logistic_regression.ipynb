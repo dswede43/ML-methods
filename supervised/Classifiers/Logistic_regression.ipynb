{
 "cells": [
  {
   "cell_type": "markdown",
   "id": "d9072795",
   "metadata": {},
   "source": [
    "# Logistic Regression\n",
    "\n",
    "Supervised machine learning to classify a bivariate categorical target variable."
   ]
  },
  {
   "cell_type": "code",
   "execution_count": 1,
   "id": "57d73dda",
   "metadata": {},
   "outputs": [],
   "source": [
    "import pandas as pd\n",
    "import numpy as np\n",
    "import random\n",
    "import statsmodels.api as sm\n",
    "import statsmodels.formula.api as smf\n",
    "from statsmodels.stats.outliers_influence import variance_inflation_factor\n",
    "from sklearn.metrics import accuracy_score\n",
    "import seaborn as sns\n",
    "import matplotlib.pyplot as plt"
   ]
  },
  {
   "cell_type": "markdown",
   "id": "c9070c4c",
   "metadata": {},
   "source": [
    "## Dataset\n",
    "\n",
    "This data contains information about the characteristics of Penguins collected by Dr. Kristen Gorman in the Palmer station in Antartica (https://github.com/allisonhorst/palmerpenguins/tree/main)."
   ]
  },
  {
   "cell_type": "code",
   "execution_count": 2,
   "id": "151afe95",
   "metadata": {},
   "outputs": [],
   "source": [
    "#load the data\n",
    "df = pd.read_csv(\"https://raw.githubusercontent.com/dswede43/ML-methods/main/data/palmerpenguins.csv\")\n",
    "df = df.dropna() #remove NA values\n",
    "df = df.reset_index(drop = True) #reset the index\n",
    "df = df.apply(lambda x: pd.factorize(x)[0]) #convert categorical variables into binary"
   ]
  },
  {
   "cell_type": "markdown",
   "id": "78d7e9f0",
   "metadata": {},
   "source": [
    "## Objective\n",
    "Create a logistic regression ML model to classify the sex of a penguin."
   ]
  },
  {
   "cell_type": "markdown",
   "id": "f486a072",
   "metadata": {},
   "source": [
    "## Train and test data splitting"
   ]
  },
  {
   "cell_type": "code",
   "execution_count": 3,
   "id": "8a4a0278",
   "metadata": {},
   "outputs": [],
   "source": [
    "#function to split the data into folds for cross-validation\n",
    "def k_folds_split(df, k):\n",
    "    #test set size\n",
    "    test_size = len(df) // k\n",
    "    \n",
    "    #data frame indices\n",
    "    df_idx = list(range(len(df))) #all indices\n",
    "    unsampled_idx = df_idx #unsampled indices\n",
    "    \n",
    "    #split training and testing sets\n",
    "    train_test_sets = []\n",
    "    for _ in range(k):\n",
    "        test_idx = random.sample(unsampled_idx, test_size) #test set indices\n",
    "        train_idx = [x for x in df_idx if x not in test_idx] #train set indices\n",
    "        unsampled_idx = [x for x in unsampled_idx if x not in test_idx] #update unsampled indices\n",
    "        \n",
    "        #create test and train sets based on indices\n",
    "        test_df = df.iloc[test_idx]\n",
    "        train_df = df.iloc[train_idx]\n",
    "        train_test_sets.append([test_df, train_df])\n",
    "        \n",
    "    return train_test_sets"
   ]
  },
  {
   "cell_type": "code",
   "execution_count": 4,
   "id": "a418572c",
   "metadata": {},
   "outputs": [],
   "source": [
    "#split the data into folds for cross-validation\n",
    "random.seed(42) #set seed\n",
    "k = 10 #number of folds\n",
    "train_test_sets = k_folds_split(df, k)\n",
    "\n",
    "#look at the first set of test and train data\n",
    "test_set = train_test_sets[0][0]\n",
    "test_set = sm.add_constant(test_set) #add column of 1 for constants\n",
    "train_set = train_test_sets[0][1]\n",
    "train_set = sm.add_constant(train_set) #add column of 1 for constants"
   ]
  },
  {
   "cell_type": "markdown",
   "id": "3e3ccc27",
   "metadata": {},
   "source": [
    "## Model selection\n",
    "\n",
    "Model selection using an initial set of train and test data to create the different logistic regression models that will be performance tested using 10-fold cross validation."
   ]
  },
  {
   "cell_type": "markdown",
   "id": "a9bbec92",
   "metadata": {},
   "source": [
    "### Full additive model\n",
    "\n",
    "Model including all feature variables:\n",
    "\n",
    "$$logit(sex)=\\beta_{0}+\\beta_{1}species+\\beta_{2}island+\\beta_{3}billlength+\\beta_{4}billdepth+\\beta_{5}flipperlength+\\beta_{6}bodymass+\\epsilon$$"
   ]
  },
  {
   "cell_type": "code",
   "execution_count": 5,
   "id": "f8159f58",
   "metadata": {},
   "outputs": [
    {
     "name": "stdout",
     "output_type": "stream",
     "text": [
      "Optimization terminated successfully.\n",
      "         Current function value: 0.631288\n",
      "         Iterations 5\n"
     ]
    },
    {
     "data": {
      "text/html": [
       "<table class=\"simpletable\">\n",
       "<caption>Logit Regression Results</caption>\n",
       "<tr>\n",
       "  <th>Dep. Variable:</th>          <td>sex</td>       <th>  No. Observations:  </th>  <td>   300</td>  \n",
       "</tr>\n",
       "<tr>\n",
       "  <th>Model:</th>                 <td>Logit</td>      <th>  Df Residuals:      </th>  <td>   293</td>  \n",
       "</tr>\n",
       "<tr>\n",
       "  <th>Method:</th>                 <td>MLE</td>       <th>  Df Model:          </th>  <td>     6</td>  \n",
       "</tr>\n",
       "<tr>\n",
       "  <th>Date:</th>            <td>Sat, 02 Mar 2024</td> <th>  Pseudo R-squ.:     </th>  <td>0.08913</td> \n",
       "</tr>\n",
       "<tr>\n",
       "  <th>Time:</th>                <td>09:25:31</td>     <th>  Log-Likelihood:    </th> <td> -189.39</td> \n",
       "</tr>\n",
       "<tr>\n",
       "  <th>converged:</th>             <td>True</td>       <th>  LL-Null:           </th> <td> -207.92</td> \n",
       "</tr>\n",
       "<tr>\n",
       "  <th>Covariance Type:</th>     <td>nonrobust</td>    <th>  LLR p-value:       </th> <td>1.713e-06</td>\n",
       "</tr>\n",
       "</table>\n",
       "<table class=\"simpletable\">\n",
       "<tr>\n",
       "          <td></td>             <th>coef</th>     <th>std err</th>      <th>z</th>      <th>P>|z|</th>  <th>[0.025</th>    <th>0.975]</th>  \n",
       "</tr>\n",
       "<tr>\n",
       "  <th>Intercept</th>         <td>    0.3350</td> <td>    0.380</td> <td>    0.881</td> <td> 0.378</td> <td>   -0.410</td> <td>    1.080</td>\n",
       "</tr>\n",
       "<tr>\n",
       "  <th>species</th>           <td>    0.4856</td> <td>    0.282</td> <td>    1.724</td> <td> 0.085</td> <td>   -0.066</td> <td>    1.038</td>\n",
       "</tr>\n",
       "<tr>\n",
       "  <th>island</th>            <td>   -0.0788</td> <td>    0.214</td> <td>   -0.369</td> <td> 0.712</td> <td>   -0.498</td> <td>    0.340</td>\n",
       "</tr>\n",
       "<tr>\n",
       "  <th>bill_length_mm</th>    <td>   -0.0139</td> <td>    0.005</td> <td>   -2.675</td> <td> 0.007</td> <td>   -0.024</td> <td>   -0.004</td>\n",
       "</tr>\n",
       "<tr>\n",
       "  <th>bill_depth_mm</th>     <td>    0.0411</td> <td>    0.009</td> <td>    4.677</td> <td> 0.000</td> <td>    0.024</td> <td>    0.058</td>\n",
       "</tr>\n",
       "<tr>\n",
       "  <th>flipper_length_mm</th> <td>   -0.0309</td> <td>    0.013</td> <td>   -2.410</td> <td> 0.016</td> <td>   -0.056</td> <td>   -0.006</td>\n",
       "</tr>\n",
       "<tr>\n",
       "  <th>body_mass_g</th>       <td>   -0.0109</td> <td>    0.007</td> <td>   -1.638</td> <td> 0.101</td> <td>   -0.024</td> <td>    0.002</td>\n",
       "</tr>\n",
       "</table>"
      ],
      "text/latex": [
       "\\begin{center}\n",
       "\\begin{tabular}{lclc}\n",
       "\\toprule\n",
       "\\textbf{Dep. Variable:}      &       sex        & \\textbf{  No. Observations:  } &      300    \\\\\n",
       "\\textbf{Model:}              &      Logit       & \\textbf{  Df Residuals:      } &      293    \\\\\n",
       "\\textbf{Method:}             &       MLE        & \\textbf{  Df Model:          } &        6    \\\\\n",
       "\\textbf{Date:}               & Sat, 02 Mar 2024 & \\textbf{  Pseudo R-squ.:     } &  0.08913    \\\\\n",
       "\\textbf{Time:}               &     09:25:31     & \\textbf{  Log-Likelihood:    } &   -189.39   \\\\\n",
       "\\textbf{converged:}          &       True       & \\textbf{  LL-Null:           } &   -207.92   \\\\\n",
       "\\textbf{Covariance Type:}    &    nonrobust     & \\textbf{  LLR p-value:       } & 1.713e-06   \\\\\n",
       "\\bottomrule\n",
       "\\end{tabular}\n",
       "\\begin{tabular}{lcccccc}\n",
       "                             & \\textbf{coef} & \\textbf{std err} & \\textbf{z} & \\textbf{P$> |$z$|$} & \\textbf{[0.025} & \\textbf{0.975]}  \\\\\n",
       "\\midrule\n",
       "\\textbf{Intercept}           &       0.3350  &        0.380     &     0.881  &         0.378        &       -0.410    &        1.080     \\\\\n",
       "\\textbf{species}             &       0.4856  &        0.282     &     1.724  &         0.085        &       -0.066    &        1.038     \\\\\n",
       "\\textbf{island}              &      -0.0788  &        0.214     &    -0.369  &         0.712        &       -0.498    &        0.340     \\\\\n",
       "\\textbf{bill\\_length\\_mm}    &      -0.0139  &        0.005     &    -2.675  &         0.007        &       -0.024    &       -0.004     \\\\\n",
       "\\textbf{bill\\_depth\\_mm}     &       0.0411  &        0.009     &     4.677  &         0.000        &        0.024    &        0.058     \\\\\n",
       "\\textbf{flipper\\_length\\_mm} &      -0.0309  &        0.013     &    -2.410  &         0.016        &       -0.056    &       -0.006     \\\\\n",
       "\\textbf{body\\_mass\\_g}       &      -0.0109  &        0.007     &    -1.638  &         0.101        &       -0.024    &        0.002     \\\\\n",
       "\\bottomrule\n",
       "\\end{tabular}\n",
       "%\\caption{Logit Regression Results}\n",
       "\\end{center}"
      ],
      "text/plain": [
       "<class 'statsmodels.iolib.summary.Summary'>\n",
       "\"\"\"\n",
       "                           Logit Regression Results                           \n",
       "==============================================================================\n",
       "Dep. Variable:                    sex   No. Observations:                  300\n",
       "Model:                          Logit   Df Residuals:                      293\n",
       "Method:                           MLE   Df Model:                            6\n",
       "Date:                Sat, 02 Mar 2024   Pseudo R-squ.:                 0.08913\n",
       "Time:                        09:25:31   Log-Likelihood:                -189.39\n",
       "converged:                       True   LL-Null:                       -207.92\n",
       "Covariance Type:            nonrobust   LLR p-value:                 1.713e-06\n",
       "=====================================================================================\n",
       "                        coef    std err          z      P>|z|      [0.025      0.975]\n",
       "-------------------------------------------------------------------------------------\n",
       "Intercept             0.3350      0.380      0.881      0.378      -0.410       1.080\n",
       "species               0.4856      0.282      1.724      0.085      -0.066       1.038\n",
       "island               -0.0788      0.214     -0.369      0.712      -0.498       0.340\n",
       "bill_length_mm       -0.0139      0.005     -2.675      0.007      -0.024      -0.004\n",
       "bill_depth_mm         0.0411      0.009      4.677      0.000       0.024       0.058\n",
       "flipper_length_mm    -0.0309      0.013     -2.410      0.016      -0.056      -0.006\n",
       "body_mass_g          -0.0109      0.007     -1.638      0.101      -0.024       0.002\n",
       "=====================================================================================\n",
       "\"\"\""
      ]
     },
     "execution_count": 5,
     "metadata": {},
     "output_type": "execute_result"
    }
   ],
   "source": [
    "#define the model formula\n",
    "model_formula = 'sex ~ species + island + bill_length_mm + bill_depth_mm + flipper_length_mm + body_mass_g'\n",
    "\n",
    "#train the data using logisitic regression\n",
    "full_add_model = smf.logit(formula = model_formula, data = train_set).fit()\n",
    "full_add_model.summary()"
   ]
  },
  {
   "cell_type": "markdown",
   "id": "6bc5997e",
   "metadata": {},
   "source": [
    "#### Checking for multicollinearity"
   ]
  },
  {
   "cell_type": "code",
   "execution_count": 6,
   "id": "f2540b18",
   "metadata": {},
   "outputs": [],
   "source": [
    "#function to calculate VIF scores\n",
    "def vif_scores(X_train):\n",
    "    vif = pd.DataFrame()\n",
    "    vif['vif'] = [variance_inflation_factor(X_train.values, X) for X in range(X_train.shape[1])]\n",
    "    vif['feature'] = X_train.columns\n",
    "    \n",
    "    return vif"
   ]
  },
  {
   "cell_type": "code",
   "execution_count": 7,
   "id": "8fe973cb",
   "metadata": {},
   "outputs": [
    {
     "data": {
      "text/html": [
       "<div>\n",
       "<style scoped>\n",
       "    .dataframe tbody tr th:only-of-type {\n",
       "        vertical-align: middle;\n",
       "    }\n",
       "\n",
       "    .dataframe tbody tr th {\n",
       "        vertical-align: top;\n",
       "    }\n",
       "\n",
       "    .dataframe thead th {\n",
       "        text-align: right;\n",
       "    }\n",
       "</style>\n",
       "<table border=\"1\" class=\"dataframe\">\n",
       "  <thead>\n",
       "    <tr style=\"text-align: right;\">\n",
       "      <th></th>\n",
       "      <th>vif</th>\n",
       "      <th>feature</th>\n",
       "    </tr>\n",
       "  </thead>\n",
       "  <tbody>\n",
       "    <tr>\n",
       "      <th>0</th>\n",
       "      <td>5.241273</td>\n",
       "      <td>species</td>\n",
       "    </tr>\n",
       "    <tr>\n",
       "      <th>1</th>\n",
       "      <td>3.250769</td>\n",
       "      <td>island</td>\n",
       "    </tr>\n",
       "    <tr>\n",
       "      <th>2</th>\n",
       "      <td>11.867773</td>\n",
       "      <td>bill_length_mm</td>\n",
       "    </tr>\n",
       "    <tr>\n",
       "      <th>3</th>\n",
       "      <td>6.543099</td>\n",
       "      <td>bill_depth_mm</td>\n",
       "    </tr>\n",
       "    <tr>\n",
       "      <th>4</th>\n",
       "      <td>7.249836</td>\n",
       "      <td>flipper_length_mm</td>\n",
       "    </tr>\n",
       "    <tr>\n",
       "      <th>5</th>\n",
       "      <td>5.327354</td>\n",
       "      <td>body_mass_g</td>\n",
       "    </tr>\n",
       "  </tbody>\n",
       "</table>\n",
       "</div>"
      ],
      "text/plain": [
       "         vif            feature\n",
       "0   5.241273            species\n",
       "1   3.250769             island\n",
       "2  11.867773     bill_length_mm\n",
       "3   6.543099      bill_depth_mm\n",
       "4   7.249836  flipper_length_mm\n",
       "5   5.327354        body_mass_g"
      ]
     },
     "execution_count": 7,
     "metadata": {},
     "output_type": "execute_result"
    }
   ],
   "source": [
    "#define the feature variables\n",
    "features = ['species',\n",
    "            'island',\n",
    "            'bill_length_mm',\n",
    "            'bill_depth_mm',\n",
    "            'flipper_length_mm',\n",
    "            'body_mass_g']\n",
    "\n",
    "#calculate the VIF scores for each feature\n",
    "vif = vif_scores(train_set[features])\n",
    "vif"
   ]
  },
  {
   "cell_type": "markdown",
   "id": "a2b7de6b",
   "metadata": {},
   "source": [
    "The features *bill_length_mm* and *flipper_length_mm* show evidence of multicollinearity given their high VIF scores."
   ]
  },
  {
   "cell_type": "code",
   "execution_count": 8,
   "id": "9c481dac",
   "metadata": {},
   "outputs": [
    {
     "data": {
      "text/html": [
       "<div>\n",
       "<style scoped>\n",
       "    .dataframe tbody tr th:only-of-type {\n",
       "        vertical-align: middle;\n",
       "    }\n",
       "\n",
       "    .dataframe tbody tr th {\n",
       "        vertical-align: top;\n",
       "    }\n",
       "\n",
       "    .dataframe thead th {\n",
       "        text-align: right;\n",
       "    }\n",
       "</style>\n",
       "<table border=\"1\" class=\"dataframe\">\n",
       "  <thead>\n",
       "    <tr style=\"text-align: right;\">\n",
       "      <th></th>\n",
       "      <th>vif</th>\n",
       "      <th>feature</th>\n",
       "    </tr>\n",
       "  </thead>\n",
       "  <tbody>\n",
       "    <tr>\n",
       "      <th>0</th>\n",
       "      <td>2.887494</td>\n",
       "      <td>species</td>\n",
       "    </tr>\n",
       "    <tr>\n",
       "      <th>1</th>\n",
       "      <td>2.964468</td>\n",
       "      <td>island</td>\n",
       "    </tr>\n",
       "    <tr>\n",
       "      <th>2</th>\n",
       "      <td>4.715387</td>\n",
       "      <td>bill_depth_mm</td>\n",
       "    </tr>\n",
       "    <tr>\n",
       "      <th>3</th>\n",
       "      <td>3.736665</td>\n",
       "      <td>body_mass_g</td>\n",
       "    </tr>\n",
       "  </tbody>\n",
       "</table>\n",
       "</div>"
      ],
      "text/plain": [
       "        vif        feature\n",
       "0  2.887494        species\n",
       "1  2.964468         island\n",
       "2  4.715387  bill_depth_mm\n",
       "3  3.736665    body_mass_g"
      ]
     },
     "execution_count": 8,
     "metadata": {},
     "output_type": "execute_result"
    }
   ],
   "source": [
    "#define the feature variables\n",
    "features = ['species',\n",
    "            'island',\n",
    "            'bill_depth_mm',\n",
    "            'body_mass_g']\n",
    "\n",
    "#calculate the VIF scores for each feature\n",
    "vif = vif_scores(train_set[features])\n",
    "vif"
   ]
  },
  {
   "cell_type": "markdown",
   "id": "73b7201e",
   "metadata": {},
   "source": [
    "The VIF scores are now below 5; therefore, there is no longer any issues with multicollinearity among feature variables."
   ]
  },
  {
   "cell_type": "markdown",
   "id": "2ef93b68",
   "metadata": {},
   "source": [
    "### Reduced additive model 1\n",
    "\n",
    "Model with collinear feature variables removed.\n",
    "\n",
    "$$logit(sex)=\\beta_{0}+\\beta_{1}species+\\beta_{2}island+\\beta_{3}billdepth+\\beta_{4}bodymass+\\epsilon$$"
   ]
  },
  {
   "cell_type": "code",
   "execution_count": 9,
   "id": "75b38f3c",
   "metadata": {},
   "outputs": [
    {
     "name": "stdout",
     "output_type": "stream",
     "text": [
      "Optimization terminated successfully.\n",
      "         Current function value: 0.657444\n",
      "         Iterations 5\n"
     ]
    },
    {
     "data": {
      "text/html": [
       "<table class=\"simpletable\">\n",
       "<caption>Logit Regression Results</caption>\n",
       "<tr>\n",
       "  <th>Dep. Variable:</th>          <td>sex</td>       <th>  No. Observations:  </th>  <td>   300</td>  \n",
       "</tr>\n",
       "<tr>\n",
       "  <th>Model:</th>                 <td>Logit</td>      <th>  Df Residuals:      </th>  <td>   295</td>  \n",
       "</tr>\n",
       "<tr>\n",
       "  <th>Method:</th>                 <td>MLE</td>       <th>  Df Model:          </th>  <td>     4</td>  \n",
       "</tr>\n",
       "<tr>\n",
       "  <th>Date:</th>            <td>Sat, 02 Mar 2024</td> <th>  Pseudo R-squ.:     </th>  <td>0.05139</td> \n",
       "</tr>\n",
       "<tr>\n",
       "  <th>Time:</th>                <td>09:25:31</td>     <th>  Log-Likelihood:    </th> <td> -197.23</td> \n",
       "</tr>\n",
       "<tr>\n",
       "  <th>converged:</th>             <td>True</td>       <th>  LL-Null:           </th> <td> -207.92</td> \n",
       "</tr>\n",
       "<tr>\n",
       "  <th>Covariance Type:</th>     <td>nonrobust</td>    <th>  LLR p-value:       </th> <td>0.0002676</td>\n",
       "</tr>\n",
       "</table>\n",
       "<table class=\"simpletable\">\n",
       "<tr>\n",
       "        <td></td>           <th>coef</th>     <th>std err</th>      <th>z</th>      <th>P>|z|</th>  <th>[0.025</th>    <th>0.975]</th>  \n",
       "</tr>\n",
       "<tr>\n",
       "  <th>Intercept</th>     <td>   -0.0282</td> <td>    0.360</td> <td>   -0.078</td> <td> 0.937</td> <td>   -0.733</td> <td>    0.677</td>\n",
       "</tr>\n",
       "<tr>\n",
       "  <th>species</th>       <td>   -0.1600</td> <td>    0.190</td> <td>   -0.844</td> <td> 0.399</td> <td>   -0.532</td> <td>    0.212</td>\n",
       "</tr>\n",
       "<tr>\n",
       "  <th>island</th>        <td>   -0.0406</td> <td>    0.208</td> <td>   -0.195</td> <td> 0.845</td> <td>   -0.448</td> <td>    0.367</td>\n",
       "</tr>\n",
       "<tr>\n",
       "  <th>bill_depth_mm</th> <td>    0.0276</td> <td>    0.008</td> <td>    3.626</td> <td> 0.000</td> <td>    0.013</td> <td>    0.042</td>\n",
       "</tr>\n",
       "<tr>\n",
       "  <th>body_mass_g</th>   <td>   -0.0231</td> <td>    0.006</td> <td>   -3.921</td> <td> 0.000</td> <td>   -0.035</td> <td>   -0.012</td>\n",
       "</tr>\n",
       "</table>"
      ],
      "text/latex": [
       "\\begin{center}\n",
       "\\begin{tabular}{lclc}\n",
       "\\toprule\n",
       "\\textbf{Dep. Variable:}   &       sex        & \\textbf{  No. Observations:  } &      300    \\\\\n",
       "\\textbf{Model:}           &      Logit       & \\textbf{  Df Residuals:      } &      295    \\\\\n",
       "\\textbf{Method:}          &       MLE        & \\textbf{  Df Model:          } &        4    \\\\\n",
       "\\textbf{Date:}            & Sat, 02 Mar 2024 & \\textbf{  Pseudo R-squ.:     } &  0.05139    \\\\\n",
       "\\textbf{Time:}            &     09:25:31     & \\textbf{  Log-Likelihood:    } &   -197.23   \\\\\n",
       "\\textbf{converged:}       &       True       & \\textbf{  LL-Null:           } &   -207.92   \\\\\n",
       "\\textbf{Covariance Type:} &    nonrobust     & \\textbf{  LLR p-value:       } & 0.0002676   \\\\\n",
       "\\bottomrule\n",
       "\\end{tabular}\n",
       "\\begin{tabular}{lcccccc}\n",
       "                         & \\textbf{coef} & \\textbf{std err} & \\textbf{z} & \\textbf{P$> |$z$|$} & \\textbf{[0.025} & \\textbf{0.975]}  \\\\\n",
       "\\midrule\n",
       "\\textbf{Intercept}       &      -0.0282  &        0.360     &    -0.078  &         0.937        &       -0.733    &        0.677     \\\\\n",
       "\\textbf{species}         &      -0.1600  &        0.190     &    -0.844  &         0.399        &       -0.532    &        0.212     \\\\\n",
       "\\textbf{island}          &      -0.0406  &        0.208     &    -0.195  &         0.845        &       -0.448    &        0.367     \\\\\n",
       "\\textbf{bill\\_depth\\_mm} &       0.0276  &        0.008     &     3.626  &         0.000        &        0.013    &        0.042     \\\\\n",
       "\\textbf{body\\_mass\\_g}   &      -0.0231  &        0.006     &    -3.921  &         0.000        &       -0.035    &       -0.012     \\\\\n",
       "\\bottomrule\n",
       "\\end{tabular}\n",
       "%\\caption{Logit Regression Results}\n",
       "\\end{center}"
      ],
      "text/plain": [
       "<class 'statsmodels.iolib.summary.Summary'>\n",
       "\"\"\"\n",
       "                           Logit Regression Results                           \n",
       "==============================================================================\n",
       "Dep. Variable:                    sex   No. Observations:                  300\n",
       "Model:                          Logit   Df Residuals:                      295\n",
       "Method:                           MLE   Df Model:                            4\n",
       "Date:                Sat, 02 Mar 2024   Pseudo R-squ.:                 0.05139\n",
       "Time:                        09:25:31   Log-Likelihood:                -197.23\n",
       "converged:                       True   LL-Null:                       -207.92\n",
       "Covariance Type:            nonrobust   LLR p-value:                 0.0002676\n",
       "=================================================================================\n",
       "                    coef    std err          z      P>|z|      [0.025      0.975]\n",
       "---------------------------------------------------------------------------------\n",
       "Intercept        -0.0282      0.360     -0.078      0.937      -0.733       0.677\n",
       "species          -0.1600      0.190     -0.844      0.399      -0.532       0.212\n",
       "island           -0.0406      0.208     -0.195      0.845      -0.448       0.367\n",
       "bill_depth_mm     0.0276      0.008      3.626      0.000       0.013       0.042\n",
       "body_mass_g      -0.0231      0.006     -3.921      0.000      -0.035      -0.012\n",
       "=================================================================================\n",
       "\"\"\""
      ]
     },
     "execution_count": 9,
     "metadata": {},
     "output_type": "execute_result"
    }
   ],
   "source": [
    "#define the model formula\n",
    "model_formula = 'sex ~ species + island + bill_depth_mm + body_mass_g'\n",
    "\n",
    "#train the data using logisitic regression\n",
    "red_add_model1 = smf.logit(formula = model_formula, data = train_set).fit()\n",
    "red_add_model1.summary()"
   ]
  },
  {
   "cell_type": "markdown",
   "id": "456029b8",
   "metadata": {},
   "source": [
    "The features *species* and *island* are non-significant and therefore removed."
   ]
  },
  {
   "cell_type": "markdown",
   "id": "d18945f4",
   "metadata": {},
   "source": [
    "### Reduced additive model 2\n",
    "\n",
    "Model with non-significant feature variables removed.\n",
    "\n",
    "$$logit(sex)=\\beta_{0}+\\beta_{1}billdepth+\\beta_{2}bodymass+\\epsilon$$"
   ]
  },
  {
   "cell_type": "code",
   "execution_count": 10,
   "id": "c9851b5c",
   "metadata": {},
   "outputs": [
    {
     "name": "stdout",
     "output_type": "stream",
     "text": [
      "Optimization terminated successfully.\n",
      "         Current function value: 0.659409\n",
      "         Iterations 5\n"
     ]
    },
    {
     "data": {
      "text/html": [
       "<table class=\"simpletable\">\n",
       "<caption>Logit Regression Results</caption>\n",
       "<tr>\n",
       "  <th>Dep. Variable:</th>          <td>sex</td>       <th>  No. Observations:  </th>  <td>   300</td>  \n",
       "</tr>\n",
       "<tr>\n",
       "  <th>Model:</th>                 <td>Logit</td>      <th>  Df Residuals:      </th>  <td>   297</td>  \n",
       "</tr>\n",
       "<tr>\n",
       "  <th>Method:</th>                 <td>MLE</td>       <th>  Df Model:          </th>  <td>     2</td>  \n",
       "</tr>\n",
       "<tr>\n",
       "  <th>Date:</th>            <td>Sat, 02 Mar 2024</td> <th>  Pseudo R-squ.:     </th>  <td>0.04855</td> \n",
       "</tr>\n",
       "<tr>\n",
       "  <th>Time:</th>                <td>09:25:31</td>     <th>  Log-Likelihood:    </th> <td> -197.82</td> \n",
       "</tr>\n",
       "<tr>\n",
       "  <th>converged:</th>             <td>True</td>       <th>  LL-Null:           </th> <td> -207.92</td> \n",
       "</tr>\n",
       "<tr>\n",
       "  <th>Covariance Type:</th>     <td>nonrobust</td>    <th>  LLR p-value:       </th> <td>4.130e-05</td>\n",
       "</tr>\n",
       "</table>\n",
       "<table class=\"simpletable\">\n",
       "<tr>\n",
       "        <td></td>           <th>coef</th>     <th>std err</th>      <th>z</th>      <th>P>|z|</th>  <th>[0.025</th>    <th>0.975]</th>  \n",
       "</tr>\n",
       "<tr>\n",
       "  <th>Intercept</th>     <td>   -0.1462</td> <td>    0.240</td> <td>   -0.609</td> <td> 0.543</td> <td>   -0.617</td> <td>    0.325</td>\n",
       "</tr>\n",
       "<tr>\n",
       "  <th>bill_depth_mm</th> <td>    0.0258</td> <td>    0.007</td> <td>    3.586</td> <td> 0.000</td> <td>    0.012</td> <td>    0.040</td>\n",
       "</tr>\n",
       "<tr>\n",
       "  <th>body_mass_g</th>   <td>   -0.0229</td> <td>    0.006</td> <td>   -3.935</td> <td> 0.000</td> <td>   -0.034</td> <td>   -0.012</td>\n",
       "</tr>\n",
       "</table>"
      ],
      "text/latex": [
       "\\begin{center}\n",
       "\\begin{tabular}{lclc}\n",
       "\\toprule\n",
       "\\textbf{Dep. Variable:}   &       sex        & \\textbf{  No. Observations:  } &      300    \\\\\n",
       "\\textbf{Model:}           &      Logit       & \\textbf{  Df Residuals:      } &      297    \\\\\n",
       "\\textbf{Method:}          &       MLE        & \\textbf{  Df Model:          } &        2    \\\\\n",
       "\\textbf{Date:}            & Sat, 02 Mar 2024 & \\textbf{  Pseudo R-squ.:     } &  0.04855    \\\\\n",
       "\\textbf{Time:}            &     09:25:31     & \\textbf{  Log-Likelihood:    } &   -197.82   \\\\\n",
       "\\textbf{converged:}       &       True       & \\textbf{  LL-Null:           } &   -207.92   \\\\\n",
       "\\textbf{Covariance Type:} &    nonrobust     & \\textbf{  LLR p-value:       } & 4.130e-05   \\\\\n",
       "\\bottomrule\n",
       "\\end{tabular}\n",
       "\\begin{tabular}{lcccccc}\n",
       "                         & \\textbf{coef} & \\textbf{std err} & \\textbf{z} & \\textbf{P$> |$z$|$} & \\textbf{[0.025} & \\textbf{0.975]}  \\\\\n",
       "\\midrule\n",
       "\\textbf{Intercept}       &      -0.1462  &        0.240     &    -0.609  &         0.543        &       -0.617    &        0.325     \\\\\n",
       "\\textbf{bill\\_depth\\_mm} &       0.0258  &        0.007     &     3.586  &         0.000        &        0.012    &        0.040     \\\\\n",
       "\\textbf{body\\_mass\\_g}   &      -0.0229  &        0.006     &    -3.935  &         0.000        &       -0.034    &       -0.012     \\\\\n",
       "\\bottomrule\n",
       "\\end{tabular}\n",
       "%\\caption{Logit Regression Results}\n",
       "\\end{center}"
      ],
      "text/plain": [
       "<class 'statsmodels.iolib.summary.Summary'>\n",
       "\"\"\"\n",
       "                           Logit Regression Results                           \n",
       "==============================================================================\n",
       "Dep. Variable:                    sex   No. Observations:                  300\n",
       "Model:                          Logit   Df Residuals:                      297\n",
       "Method:                           MLE   Df Model:                            2\n",
       "Date:                Sat, 02 Mar 2024   Pseudo R-squ.:                 0.04855\n",
       "Time:                        09:25:31   Log-Likelihood:                -197.82\n",
       "converged:                       True   LL-Null:                       -207.92\n",
       "Covariance Type:            nonrobust   LLR p-value:                 4.130e-05\n",
       "=================================================================================\n",
       "                    coef    std err          z      P>|z|      [0.025      0.975]\n",
       "---------------------------------------------------------------------------------\n",
       "Intercept        -0.1462      0.240     -0.609      0.543      -0.617       0.325\n",
       "bill_depth_mm     0.0258      0.007      3.586      0.000       0.012       0.040\n",
       "body_mass_g      -0.0229      0.006     -3.935      0.000      -0.034      -0.012\n",
       "=================================================================================\n",
       "\"\"\""
      ]
     },
     "execution_count": 10,
     "metadata": {},
     "output_type": "execute_result"
    }
   ],
   "source": [
    "#define the model formula\n",
    "model_formula = 'sex ~ bill_depth_mm + body_mass_g'\n",
    "\n",
    "#train the data using logisitic regression\n",
    "red_add_model2 = smf.logit(formula = model_formula, data = train_set).fit()\n",
    "red_add_model2.summary()"
   ]
  },
  {
   "cell_type": "markdown",
   "id": "5740f066",
   "metadata": {},
   "source": [
    "### Interaction model\n",
    "\n",
    "Model with interaction terms.\n",
    "\n",
    "$$logit(sex)=\\beta_{0}+\\beta_{1}billdepth+\\beta_{2}bodymass+\\beta_{3}billdepth*bodymass+\\epsilon$$"
   ]
  },
  {
   "cell_type": "code",
   "execution_count": 11,
   "id": "bb5c8bee",
   "metadata": {},
   "outputs": [
    {
     "name": "stdout",
     "output_type": "stream",
     "text": [
      "Optimization terminated successfully.\n",
      "         Current function value: 0.659308\n",
      "         Iterations 5\n"
     ]
    },
    {
     "data": {
      "text/html": [
       "<table class=\"simpletable\">\n",
       "<caption>Logit Regression Results</caption>\n",
       "<tr>\n",
       "  <th>Dep. Variable:</th>          <td>sex</td>       <th>  No. Observations:  </th>  <td>   300</td>  \n",
       "</tr>\n",
       "<tr>\n",
       "  <th>Model:</th>                 <td>Logit</td>      <th>  Df Residuals:      </th>  <td>   296</td>  \n",
       "</tr>\n",
       "<tr>\n",
       "  <th>Method:</th>                 <td>MLE</td>       <th>  Df Model:          </th>  <td>     3</td>  \n",
       "</tr>\n",
       "<tr>\n",
       "  <th>Date:</th>            <td>Sat, 02 Mar 2024</td> <th>  Pseudo R-squ.:     </th>  <td>0.04870</td> \n",
       "</tr>\n",
       "<tr>\n",
       "  <th>Time:</th>                <td>09:25:31</td>     <th>  Log-Likelihood:    </th> <td> -197.79</td> \n",
       "</tr>\n",
       "<tr>\n",
       "  <th>converged:</th>             <td>True</td>       <th>  LL-Null:           </th> <td> -207.92</td> \n",
       "</tr>\n",
       "<tr>\n",
       "  <th>Covariance Type:</th>     <td>nonrobust</td>    <th>  LLR p-value:       </th> <td>0.0001506</td>\n",
       "</tr>\n",
       "</table>\n",
       "<table class=\"simpletable\">\n",
       "<tr>\n",
       "              <td></td>                 <th>coef</th>     <th>std err</th>      <th>z</th>      <th>P>|z|</th>  <th>[0.025</th>    <th>0.975]</th>  \n",
       "</tr>\n",
       "<tr>\n",
       "  <th>Intercept</th>                 <td>   -0.2151</td> <td>    0.369</td> <td>   -0.583</td> <td> 0.560</td> <td>   -0.938</td> <td>    0.508</td>\n",
       "</tr>\n",
       "<tr>\n",
       "  <th>bill_depth_mm</th>             <td>    0.0280</td> <td>    0.011</td> <td>    2.470</td> <td> 0.014</td> <td>    0.006</td> <td>    0.050</td>\n",
       "</tr>\n",
       "<tr>\n",
       "  <th>body_mass_g</th>               <td>   -0.0203</td> <td>    0.012</td> <td>   -1.664</td> <td> 0.096</td> <td>   -0.044</td> <td>    0.004</td>\n",
       "</tr>\n",
       "<tr>\n",
       "  <th>bill_depth_mm:body_mass_g</th> <td>-6.366e-05</td> <td>    0.000</td> <td>   -0.247</td> <td> 0.805</td> <td>   -0.001</td> <td>    0.000</td>\n",
       "</tr>\n",
       "</table>"
      ],
      "text/latex": [
       "\\begin{center}\n",
       "\\begin{tabular}{lclc}\n",
       "\\toprule\n",
       "\\textbf{Dep. Variable:}                &       sex        & \\textbf{  No. Observations:  } &      300    \\\\\n",
       "\\textbf{Model:}                        &      Logit       & \\textbf{  Df Residuals:      } &      296    \\\\\n",
       "\\textbf{Method:}                       &       MLE        & \\textbf{  Df Model:          } &        3    \\\\\n",
       "\\textbf{Date:}                         & Sat, 02 Mar 2024 & \\textbf{  Pseudo R-squ.:     } &  0.04870    \\\\\n",
       "\\textbf{Time:}                         &     09:25:31     & \\textbf{  Log-Likelihood:    } &   -197.79   \\\\\n",
       "\\textbf{converged:}                    &       True       & \\textbf{  LL-Null:           } &   -207.92   \\\\\n",
       "\\textbf{Covariance Type:}              &    nonrobust     & \\textbf{  LLR p-value:       } & 0.0001506   \\\\\n",
       "\\bottomrule\n",
       "\\end{tabular}\n",
       "\\begin{tabular}{lcccccc}\n",
       "                                       & \\textbf{coef} & \\textbf{std err} & \\textbf{z} & \\textbf{P$> |$z$|$} & \\textbf{[0.025} & \\textbf{0.975]}  \\\\\n",
       "\\midrule\n",
       "\\textbf{Intercept}                     &      -0.2151  &        0.369     &    -0.583  &         0.560        &       -0.938    &        0.508     \\\\\n",
       "\\textbf{bill\\_depth\\_mm}               &       0.0280  &        0.011     &     2.470  &         0.014        &        0.006    &        0.050     \\\\\n",
       "\\textbf{body\\_mass\\_g}                 &      -0.0203  &        0.012     &    -1.664  &         0.096        &       -0.044    &        0.004     \\\\\n",
       "\\textbf{bill\\_depth\\_mm:body\\_mass\\_g} &   -6.366e-05  &        0.000     &    -0.247  &         0.805        &       -0.001    &        0.000     \\\\\n",
       "\\bottomrule\n",
       "\\end{tabular}\n",
       "%\\caption{Logit Regression Results}\n",
       "\\end{center}"
      ],
      "text/plain": [
       "<class 'statsmodels.iolib.summary.Summary'>\n",
       "\"\"\"\n",
       "                           Logit Regression Results                           \n",
       "==============================================================================\n",
       "Dep. Variable:                    sex   No. Observations:                  300\n",
       "Model:                          Logit   Df Residuals:                      296\n",
       "Method:                           MLE   Df Model:                            3\n",
       "Date:                Sat, 02 Mar 2024   Pseudo R-squ.:                 0.04870\n",
       "Time:                        09:25:31   Log-Likelihood:                -197.79\n",
       "converged:                       True   LL-Null:                       -207.92\n",
       "Covariance Type:            nonrobust   LLR p-value:                 0.0001506\n",
       "=============================================================================================\n",
       "                                coef    std err          z      P>|z|      [0.025      0.975]\n",
       "---------------------------------------------------------------------------------------------\n",
       "Intercept                    -0.2151      0.369     -0.583      0.560      -0.938       0.508\n",
       "bill_depth_mm                 0.0280      0.011      2.470      0.014       0.006       0.050\n",
       "body_mass_g                  -0.0203      0.012     -1.664      0.096      -0.044       0.004\n",
       "bill_depth_mm:body_mass_g -6.366e-05      0.000     -0.247      0.805      -0.001       0.000\n",
       "=============================================================================================\n",
       "\"\"\""
      ]
     },
     "execution_count": 11,
     "metadata": {},
     "output_type": "execute_result"
    }
   ],
   "source": [
    "#define the model formula\n",
    "model_formula = 'sex ~ bill_depth_mm + body_mass_g + bill_depth_mm:body_mass_g'\n",
    "\n",
    "#train the data using logisitic regression\n",
    "inter_model = smf.logit(formula = model_formula, data = train_set).fit()\n",
    "inter_model.summary()"
   ]
  },
  {
   "cell_type": "markdown",
   "id": "f6095513",
   "metadata": {},
   "source": [
    "## 10-Fold cross-validation\n",
    "\n",
    "The different models to test are:\n",
    "\n",
    "1. full additive model\n",
    "2. reduced additive model 1\n",
    "3. reduced additive model 2\n",
    "4. interaction model"
   ]
  },
  {
   "cell_type": "code",
   "execution_count": 12,
   "id": "20a21bba",
   "metadata": {},
   "outputs": [
    {
     "data": {
      "text/html": [
       "<div>\n",
       "<style scoped>\n",
       "    .dataframe tbody tr th:only-of-type {\n",
       "        vertical-align: middle;\n",
       "    }\n",
       "\n",
       "    .dataframe tbody tr th {\n",
       "        vertical-align: top;\n",
       "    }\n",
       "\n",
       "    .dataframe thead th {\n",
       "        text-align: right;\n",
       "    }\n",
       "</style>\n",
       "<table border=\"1\" class=\"dataframe\">\n",
       "  <thead>\n",
       "    <tr style=\"text-align: right;\">\n",
       "      <th></th>\n",
       "      <th>full_add_model</th>\n",
       "      <th>red_add_model1</th>\n",
       "      <th>red_add_model2</th>\n",
       "      <th>inter_model</th>\n",
       "    </tr>\n",
       "  </thead>\n",
       "  <tbody>\n",
       "    <tr>\n",
       "      <th>0</th>\n",
       "      <td>0.515152</td>\n",
       "      <td>0.424242</td>\n",
       "      <td>0.424242</td>\n",
       "      <td>0.424242</td>\n",
       "    </tr>\n",
       "    <tr>\n",
       "      <th>1</th>\n",
       "      <td>0.575758</td>\n",
       "      <td>0.727273</td>\n",
       "      <td>0.696970</td>\n",
       "      <td>0.787879</td>\n",
       "    </tr>\n",
       "    <tr>\n",
       "      <th>2</th>\n",
       "      <td>0.727273</td>\n",
       "      <td>0.696970</td>\n",
       "      <td>0.727273</td>\n",
       "      <td>0.666667</td>\n",
       "    </tr>\n",
       "    <tr>\n",
       "      <th>3</th>\n",
       "      <td>0.575758</td>\n",
       "      <td>0.575758</td>\n",
       "      <td>0.606061</td>\n",
       "      <td>0.606061</td>\n",
       "    </tr>\n",
       "    <tr>\n",
       "      <th>4</th>\n",
       "      <td>0.575758</td>\n",
       "      <td>0.636364</td>\n",
       "      <td>0.666667</td>\n",
       "      <td>0.636364</td>\n",
       "    </tr>\n",
       "    <tr>\n",
       "      <th>5</th>\n",
       "      <td>0.636364</td>\n",
       "      <td>0.454545</td>\n",
       "      <td>0.515152</td>\n",
       "      <td>0.484848</td>\n",
       "    </tr>\n",
       "    <tr>\n",
       "      <th>6</th>\n",
       "      <td>0.484848</td>\n",
       "      <td>0.515152</td>\n",
       "      <td>0.515152</td>\n",
       "      <td>0.545455</td>\n",
       "    </tr>\n",
       "    <tr>\n",
       "      <th>7</th>\n",
       "      <td>0.757576</td>\n",
       "      <td>0.666667</td>\n",
       "      <td>0.666667</td>\n",
       "      <td>0.666667</td>\n",
       "    </tr>\n",
       "    <tr>\n",
       "      <th>8</th>\n",
       "      <td>0.575758</td>\n",
       "      <td>0.575758</td>\n",
       "      <td>0.606061</td>\n",
       "      <td>0.606061</td>\n",
       "    </tr>\n",
       "    <tr>\n",
       "      <th>9</th>\n",
       "      <td>0.424242</td>\n",
       "      <td>0.545455</td>\n",
       "      <td>0.636364</td>\n",
       "      <td>0.666667</td>\n",
       "    </tr>\n",
       "  </tbody>\n",
       "</table>\n",
       "</div>"
      ],
      "text/plain": [
       "   full_add_model  red_add_model1  red_add_model2  inter_model\n",
       "0        0.515152        0.424242        0.424242     0.424242\n",
       "1        0.575758        0.727273        0.696970     0.787879\n",
       "2        0.727273        0.696970        0.727273     0.666667\n",
       "3        0.575758        0.575758        0.606061     0.606061\n",
       "4        0.575758        0.636364        0.666667     0.636364\n",
       "5        0.636364        0.454545        0.515152     0.484848\n",
       "6        0.484848        0.515152        0.515152     0.545455\n",
       "7        0.757576        0.666667        0.666667     0.666667\n",
       "8        0.575758        0.575758        0.606061     0.606061\n",
       "9        0.424242        0.545455        0.636364     0.666667"
      ]
     },
     "execution_count": 12,
     "metadata": {},
     "output_type": "execute_result"
    }
   ],
   "source": [
    "#define the target variable\n",
    "target = 'sex'\n",
    "\n",
    "#define the model formula\n",
    "model_formulas = ['sex ~ species + island + bill_length_mm + bill_depth_mm + flipper_length_mm + body_mass_g',\n",
    "                  'sex ~ species + island + bill_depth_mm + body_mass_g',\n",
    "                  'sex ~ bill_depth_mm + body_mass_g',\n",
    "                  'sex ~ bill_depth_mm + body_mass_g + bill_depth_mm:body_mass_g']\n",
    "\n",
    "#perform cross-validation\n",
    "model_accuracy = {}\n",
    "for model_formula in model_formulas:\n",
    "    fold_accuracy = []\n",
    "    for i in range(len(train_test_sets)):\n",
    "        #define train and test datasets\n",
    "        test_set = train_test_sets[i][0]\n",
    "        y_test = test_set[target]\n",
    "        train_set = train_test_sets[i][1]\n",
    "        \n",
    "        #train the data using logistic regression\n",
    "        model = smf.logit(formula = model_formula, data = train_set).fit(disp = 0)\n",
    "        \n",
    "        #make predictions using the model\n",
    "        y_pred = model.predict(test_set)\n",
    "        y_pred = (y_pred >= 0.5).astype(int)\n",
    "\n",
    "        #test the accuracy of model predictions\n",
    "        fold_accuracy.append(accuracy_score(y_test, y_pred))\n",
    "    \n",
    "    #store the accuracy results\n",
    "    model_accuracy[model_formula] = fold_accuracy\n",
    "\n",
    "#display model accuracy scores for each fold\n",
    "model_accuracy = pd.DataFrame(model_accuracy)\n",
    "model_accuracy.columns = ['full_add_model','red_add_model1','red_add_model2','inter_model']\n",
    "model_accuracy"
   ]
  },
  {
   "cell_type": "code",
   "execution_count": 13,
   "id": "7f1cb4fa",
   "metadata": {},
   "outputs": [
    {
     "data": {
      "image/png": "[encoded data removed]",
      "text/plain": [
       "<Figure size 640x480 with 1 Axes>"
      ]
     },
     "metadata": {},
     "output_type": "display_data"
    }
   ],
   "source": [
    "#display the accuracy scores for each model\n",
    "sns.boxplot(model_accuracy)\n",
    "plt.ylabel('model predictive accuracy')\n",
    "plt.xlabel('logistic regression models')\n",
    "plt.title('10-Fold cross validation of logistic regression models')\n",
    "plt.show()"
   ]
  },
  {
   "cell_type": "code",
   "execution_count": 14,
   "id": "31126836",
   "metadata": {},
   "outputs": [
    {
     "data": {
      "text/plain": [
       "full_add_model    0.584848\n",
       "red_add_model1    0.581818\n",
       "red_add_model2    0.606061\n",
       "inter_model       0.609091\n",
       "dtype: float64"
      ]
     },
     "execution_count": 14,
     "metadata": {},
     "output_type": "execute_result"
    }
   ],
   "source": [
    "#calculate the CV scores for each model\n",
    "CV_results = model_accuracy.mean()\n",
    "CV_results"
   ]
  },
  {
   "cell_type": "markdown",
   "id": "dddf2a19",
   "metadata": {},
   "source": [
    "Based on the 10-fold cross validation accuracy scores, the *reduced additive model 2* and *interaction model* performed the best. Both models showed comparable performance but the simpler model is the *reduced additive model 2* and will therefore be used as the final model to classify penguin sex.\n",
    "\n",
    "$$logit(sex)=-0.1462+0.0258billdepth+0.0229bodymass+\\epsilon$$"
   ]
  },
  {
   "cell_type": "markdown",
   "id": "c4f506f2",
   "metadata": {},
   "source": [
    "## Checking final model assumptions"
   ]
  },
  {
   "cell_type": "markdown",
   "id": "a5c6e5b2",
   "metadata": {},
   "source": [
    "1. Binary response variable: Sex is either male or female.\n",
    "2. Independence: Observations were measured independently for each individual penguin.\n",
    "3. No multicollinearity among features: Collinear features were removed.\n",
    "4. Linear relationship between features and logit of target variable: Shown below are the linear relationships for both feature variables."
   ]
  },
  {
   "cell_type": "code",
   "execution_count": 15,
   "id": "fa04017b",
   "metadata": {},
   "outputs": [
    {
     "data": {
      "image/png": "[encoded data removed]",
      "text/plain": [
       "<Figure size 800x400 with 2 Axes>"
      ]
     },
     "metadata": {},
     "output_type": "display_data"
    }
   ],
   "source": [
    "#calculate the log odds of the target variable\n",
    "log_odds = red_add_model2.predict(df)\n",
    "\n",
    "#define the subplot dimensions\n",
    "fig, (ax1, ax2) = plt.subplots(nrows = 1, ncols = 2, figsize = (8,4))\n",
    "\n",
    "#subplot 1\n",
    "sns.scatterplot(x = 'body_mass_g', y = log_odds, data = df, ax = ax1)\n",
    "ax1.set_ylabel('logit(sex)')\n",
    "\n",
    "#subplot 2\n",
    "sns.scatterplot(x = 'bill_depth_mm', y = log_odds, data = df, ax = ax2)\n",
    "\n",
    "plt.show()"
   ]
  },
  {
   "cell_type": "markdown",
   "id": "81fb5355",
   "metadata": {},
   "source": [
    "The final model satifies all assumptions of logistic regression."
   ]
  },
  {
   "cell_type": "markdown",
   "id": "93caae89",
   "metadata": {},
   "source": [
    "## Conclusion\n",
    "\n",
    "The average cross-validation accuracy of the final model was 60.61%. More feature variables are needed to improve the predictive accuracy of this model to classify penguin sex."
   ]
  },
  {
   "cell_type": "code",
   "execution_count": null,
   "id": "5995e0d4",
   "metadata": {},
   "outputs": [],
   "source": []
  }
 ],
 "metadata": {
  "kernelspec": {
   "display_name": "Python 3 (ipykernel)",
   "language": "python",
   "name": "python3"
  },
  "language_info": {
   "codemirror_mode": {
    "name": "ipython",
    "version": 3
   },
   "file_extension": ".py",
   "mimetype": "text/x-python",
   "name": "python",
   "nbconvert_exporter": "python",
   "pygments_lexer": "ipython3",
   "version": "3.11.4"
  }
 },
 "nbformat": 4,
 "nbformat_minor": 5
}
